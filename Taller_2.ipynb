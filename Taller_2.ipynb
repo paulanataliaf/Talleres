{
  "nbformat": 4,
  "nbformat_minor": 0,
  "metadata": {
    "kernelspec": {
      "display_name": "Python 3",
      "language": "python",
      "name": "python3"
    },
    "language_info": {
      "codemirror_mode": {
        "name": "ipython",
        "version": 3
      },
      "file_extension": ".py",
      "mimetype": "text/x-python",
      "name": "python",
      "nbconvert_exporter": "python",
      "pygments_lexer": "ipython3",
      "version": "3.7.4"
    },
    "colab": {
      "name": "Taller 2 - Generación de Variables Aleatorias Discretas.ipynb",
      "provenance": []
    }
  },
  "cells": [
    {
      "cell_type": "markdown",
      "metadata": {
        "id": "5WrE1JHwjqKG",
        "colab_type": "text"
      },
      "source": [
        "# Generación de Variables Aleatorias Discretas"
      ]
    },
    {
      "cell_type": "markdown",
      "metadata": {
        "id": "WIDl4qIejqKJ",
        "colab_type": "text"
      },
      "source": [
        "## Método de la Transformada Inversa"
      ]
    },
    {
      "cell_type": "code",
      "metadata": {
        "id": "WTlwKFzcjqKL",
        "colab_type": "code",
        "colab": {}
      },
      "source": [
        "import random\n",
        "import math\n",
        "\n",
        "def is_probability(probability):\n",
        "    \"\"\"\n",
        "    Devuelve True solo si el valor\n",
        "    recibido por parametro es mayor o igual a cero\n",
        "    y menor o igual a 1\n",
        "    \"\"\"\n",
        "    return probability >= 0 and probability <= 1\n",
        "\n",
        "\n",
        "def get_random_number():\n",
        "    \"\"\"\n",
        "    Generador de números aleatorios\n",
        "    \"\"\"\n",
        "    return random.random()\n",
        "\n",
        "\n",
        "def is_approx_to_one(value):\n",
        "    \"\"\"\n",
        "    Devuelve True solo si el valor\n",
        "    recibido por parametro es mayor o igual a .99\n",
        "    y menor o igual a 1.01\n",
        "    \"\"\"\n",
        "    return value >= 0.99 and value <= 1.01"
      ],
      "execution_count": 0,
      "outputs": []
    },
    {
      "cell_type": "code",
      "metadata": {
        "id": "ynnzoUQ0jqKU",
        "colab_type": "code",
        "colab": {}
      },
      "source": [
        "def inverse_transform(number_of_aleatory_variables, probability_dictionary):\n",
        "    \"\"\"\n",
        "    El método recibe dos parametros, el primero es el número de variables\n",
        "    aleatorias a generar y el segundo corresponde a un diccionario donde\n",
        "    la llave (key) corresponde al nombre de la probabilidad y el valor (value)\n",
        "    corresponde a la probabilidad asociada.\n",
        "    El resultado se entrega como una lista que que contiene tuplas en la forma\n",
        "    (X_#, valor)\n",
        "    \"\"\"\n",
        "    sort_dict = sorted(probability_dictionary.items(), key=lambda x: x[1]) #Organiza de menor a mayor\n",
        "    sort_dict.reverse() #Revierte el orden para que esté organizado de mayor a menor\n",
        "    \n",
        "    result = [] #Almacena el resultado como una lista\n",
        "    \n",
        "    F_x = []\n",
        "    temporal_sum = 0\n",
        "    \n",
        "    for key, value in sort_dict:\n",
        "        temporal_sum += value\n",
        "        F_x.append(temporal_sum)\n",
        "        \n",
        "    if(not is_approx_to_one(temporal_sum)):\n",
        "        raise Exception(\"El valor no asciende a 1\")\n",
        "        \n",
        "    for i in range(number_of_aleatory_variables):\n",
        "        random_number = get_random_number()\n",
        "        counter = 0\n",
        "        for i in F_x:\n",
        "            if(random_number < i):\n",
        "                key = \"X_{}\".format(sort_dict[counter][0])\n",
        "                result.append((key, random_number))\n",
        "                break\n",
        "            counter += 1\n",
        "                \n",
        "    return result"
      ],
      "execution_count": 0,
      "outputs": []
    },
    {
      "cell_type": "code",
      "metadata": {
        "id": "DoOK-ItAjqKZ",
        "colab_type": "code",
        "colab": {},
        "outputId": "a90de4b2-831b-46a7-ad08-7a2b5bf15dec"
      },
      "source": [
        "number_of_aleatory_variables = int(input(\"Número de Variables Aleatorias: \"))\n",
        "number_of_probabilities = int(input(\"Número de probabilidades: \"))\n",
        "\n",
        "probability_dictionary = {}\n",
        "for i in range(number_of_probabilities):\n",
        "    key = i + 1\n",
        "    value = -1\n",
        "    \n",
        "    while(not is_probability(value)):\n",
        "        value = float(input(\"Valor de p_{0}: \".format(key)))\n",
        "        if(not is_probability(value)):\n",
        "            print(\"¡El valor no es una probabilidad!\")\n",
        "        \n",
        "    probability_dictionary[key] = value\n",
        "\n",
        "aleatory_variables =  inverse_transform(number_of_aleatory_variables, probability_dictionary)\n",
        "for i in aleatory_variables:\n",
        "    print(i)"
      ],
      "execution_count": 0,
      "outputs": [
        {
          "output_type": "stream",
          "text": [
            "Número de Variables Aleatorias: 25\n",
            "Número de probabilidades: 3\n",
            "Valor de p_1: .6\n",
            "Valor de p_2: .1\n",
            "Valor de p_3: .3\n",
            "('X_1', 0.34164062106449833)\n",
            "('X_3', 0.7330205671278311)\n",
            "('X_2', 0.961972519942688)\n",
            "('X_1', 0.06150189576704057)\n",
            "('X_1', 0.5903682000759872)\n",
            "('X_1', 0.47664356237287464)\n",
            "('X_3', 0.7340798888941941)\n",
            "('X_1', 0.1285148343602649)\n",
            "('X_1', 0.5844714229461325)\n",
            "('X_1', 0.022589999213524115)\n",
            "('X_1', 0.20323244655816142)\n",
            "('X_3', 0.8765324739344426)\n",
            "('X_3', 0.7842090588387121)\n",
            "('X_3', 0.8057845532137234)\n",
            "('X_1', 0.09864536762818144)\n",
            "('X_1', 0.12514470702017888)\n",
            "('X_1', 0.18862572075273043)\n",
            "('X_3', 0.8343926473685747)\n",
            "('X_1', 0.13225996011483854)\n",
            "('X_1', 0.13152150572413313)\n",
            "('X_3', 0.6245482422001135)\n",
            "('X_1', 0.1937456583185806)\n",
            "('X_2', 0.9987526669117587)\n",
            "('X_3', 0.7304823588107449)\n",
            "('X_3', 0.8291261699062384)\n"
          ],
          "name": "stdout"
        }
      ]
    },
    {
      "cell_type": "markdown",
      "metadata": {
        "id": "TbDv-fy0jqKg",
        "colab_type": "text"
      },
      "source": [
        "## Método para la Generación de V.A. Poisson"
      ]
    },
    {
      "cell_type": "code",
      "metadata": {
        "id": "MgKdaKzkjqKi",
        "colab_type": "code",
        "colab": {}
      },
      "source": [
        "def poisson_distribution(number_of_aleatory_variables, lambd):\n",
        "    \"\"\"\n",
        "    \n",
        "    \"\"\"\n",
        "    result = []\n",
        "    for i in range(number_of_aleatory_variables):\n",
        "        random_number = get_random_number()\n",
        "        i = 0\n",
        "        p = math.e ** (-1 * lambd)\n",
        "        F = p\n",
        "        while(random_number >= F):\n",
        "            p = (lambd * p) / (i + 1)\n",
        "            F = F + p\n",
        "            i = i + 1\n",
        "\n",
        "        key = \"X_{}\".format(i)\n",
        "        result.append((key, random_number))\n",
        "    \n",
        "    return result"
      ],
      "execution_count": 0,
      "outputs": []
    },
    {
      "cell_type": "code",
      "metadata": {
        "id": "342BlZ24jqKn",
        "colab_type": "code",
        "colab": {},
        "outputId": "159b9bca-ad01-4e96-a29e-ae9371d25549"
      },
      "source": [
        "number_of_aleatory_variables = int(input(\"Número de Variables Aleatorias: \"))\n",
        "lambd = float(input(\"Valor de lambda: \"))\n",
        "\n",
        "aleatory_variables =  poisson_distribution(number_of_aleatory_variables, lambd)\n",
        "for i in aleatory_variables:\n",
        "    print(i)"
      ],
      "execution_count": 0,
      "outputs": [
        {
          "output_type": "stream",
          "text": [
            "Número de Variables Aleatorias: 2\n",
            "Valor de lambda: 5\n",
            "('X_6', 0.7350041793355195)\n",
            "('X_2', 0.08817898020808224)\n"
          ],
          "name": "stdout"
        }
      ]
    },
    {
      "cell_type": "markdown",
      "metadata": {
        "id": "8JdyPOHxjqKu",
        "colab_type": "text"
      },
      "source": [
        "## Método para la Generación de V.A. Binomiales"
      ]
    },
    {
      "cell_type": "code",
      "metadata": {
        "id": "qrowPY1jjqKw",
        "colab_type": "code",
        "colab": {}
      },
      "source": [
        "def binomial_distribution(number_of_aleatory_variables, number_of_tests, probability_of_success):\n",
        "    \"\"\"\n",
        "    \"\"\"\n",
        "    if(number_of_tests <= 0):\n",
        "        raise Exception(\"El número de ensayos debe ser mayor o igual a cero\")\n",
        "    elif(not is_probability(probability_of_success)):\n",
        "        raise Exception(\"El valor de probabilidad no está en el rango [0, 1]\")\n",
        "    \n",
        "    results = []\n",
        "    \n",
        "    for i in range(number_of_aleatory_variables):\n",
        "        random_number = get_random_number()\n",
        "        probability_of_failure = 1 - probability_of_success\n",
        "\n",
        "        c = probability_of_success / probability_of_failure\n",
        "        i = 0\n",
        "        pr = probability_of_failure ** number_of_tests\n",
        "        F = pr\n",
        "\n",
        "        while(random_number >= F):\n",
        "            pr = (c * (number_of_tests - i) / (i + 1)) * pr\n",
        "            F = F + pr\n",
        "            i = i + 1\n",
        "\n",
        "        key = \"X_{}\".format(i)\n",
        "        results.append((key, random_number))\n",
        "    \n",
        "    return results"
      ],
      "execution_count": 0,
      "outputs": []
    },
    {
      "cell_type": "code",
      "metadata": {
        "id": "e--T41PcjqK1",
        "colab_type": "code",
        "colab": {},
        "outputId": "7fc88c1c-c7ce-4653-eeeb-3022612ce580"
      },
      "source": [
        "number_of_aleatory_variables = int(input(\"Número de variables aleatorias: \"))\n",
        "number_of_tests = int(input(\"Número de ensayos a realizar: \"))\n",
        "probability_of_success = float(input(\"Probabilidad de que el ensayo sea exitoso: \"))\n",
        "\n",
        "aleatory_variables = binomial_distribution(number_of_aleatory_variables, number_of_tests, probability_of_success)\n",
        "for i in aleatory_variables:\n",
        "    print(i)"
      ],
      "execution_count": 0,
      "outputs": [
        {
          "output_type": "stream",
          "text": [
            "Número de variables aleatorias: 20\n",
            "Número de ensayos a realizar: 20\n",
            "Probabilidad de que el ensayo sea exitoso: .55\n",
            "('X_11', 0.5048497823180083)\n",
            "('X_10', 0.383000505053087)\n",
            "('X_13', 0.7828953193854865)\n",
            "('X_12', 0.648478494736007)\n",
            "('X_17', 0.9988703660681749)\n",
            "('X_9', 0.22767905088172247)\n",
            "('X_16', 0.9929989051291541)\n",
            "('X_13', 0.8070605661107277)\n",
            "('X_13', 0.8465055917896891)\n",
            "('X_14', 0.9337302304291689)\n",
            "('X_15', 0.9605962517993367)\n",
            "('X_13', 0.8251286376765813)\n",
            "('X_10', 0.33809512672097397)\n",
            "('X_8', 0.09044807404564692)\n",
            "('X_11', 0.5315148774102169)\n",
            "('X_9', 0.1940201239261301)\n",
            "('X_14', 0.9429440646140098)\n",
            "('X_14', 0.895795176540477)\n",
            "('X_10', 0.3059145305680441)\n",
            "('X_7', 0.04747599123006785)\n"
          ],
          "name": "stdout"
        }
      ]
    },
    {
      "cell_type": "markdown",
      "metadata": {
        "id": "ULzksEhajqK7",
        "colab_type": "text"
      },
      "source": [
        "## Técnica de Aceptación y Rechazo para la Generación de V.A. Discretas"
      ]
    },
    {
      "cell_type": "code",
      "metadata": {
        "id": "j3nH8T6ijqLA",
        "colab_type": "code",
        "colab": {}
      },
      "source": [
        "def calculate_c(list_p, list_q):\n",
        "    \"\"\"\n",
        "    \"\"\"\n",
        "    if(len(list_p) != len(list_q)):\n",
        "        raise Exception(\"La cantidad de valores en ambas listas debe ser igual.\")\n",
        "    \n",
        "    list_size = len(list_p)\n",
        "    division_list = []\n",
        "    for i in range(list_size):\n",
        "        division_list.append(list_p[i] / list_q[i])\n",
        "\n",
        "    return max(division_list)\n",
        "\n",
        "\n",
        "def operate_value(value, multiplier):\n",
        "    \"\"\"\n",
        "    \"\"\"\n",
        "    return int(multiplier * value)\n",
        "    \n",
        "\n",
        "def admit_or_refuse_technique(list_p, list_q):\n",
        "    \"\"\"\n",
        "    \"\"\"\n",
        "    if(len(list_p) != len(list_q)):\n",
        "        raise Exception(\"La cantidad de valores en ambas listas debe ser igual.\")\n",
        "    \n",
        "    result = []\n",
        "    \n",
        "    list_size = len(list_p)\n",
        "    for i in range(list_size):\n",
        "        simulated_y_value = 1\n",
        "        random_number = 0\n",
        "        p_y = 0\n",
        "        q_y = 1\n",
        "        c = 1\n",
        "        \n",
        "        while(random_number > p_y / (c * q_y)):\n",
        "            simulated_y_value = operate_value(list_q[i], list_size)\n",
        "            random_number = get_random_number()\n",
        "            p_y = list_p[simulated_y_value]\n",
        "            q_y = list_q[simulated_y_value]\n",
        "            c = calculate_c(list_p, list_q)\n",
        "        \n",
        "        key = \"X_{}\".format(i + 1)\n",
        "        result.append((key, simulated_y_value))\n",
        "    \n",
        "    return result"
      ],
      "execution_count": 0,
      "outputs": []
    },
    {
      "cell_type": "code",
      "metadata": {
        "id": "c69DWtwSjqLF",
        "colab_type": "code",
        "colab": {},
        "outputId": "50376887-e44b-4587-92ab-0591332b33da"
      },
      "source": [
        "p_j = [0.1, 0.1, 0.1, 0.1, 0.6]\n",
        "q_j = [0.4, 0.2, 0.1, 0.1, 0.2]\n",
        "aleatory_variables = admit_or_refuse_technique(p_j, q_j)\n",
        "for i in aleatory_variables:\n",
        "    print(i)"
      ],
      "execution_count": 0,
      "outputs": [
        {
          "output_type": "stream",
          "text": [
            "('X_1', 1)\n",
            "('X_2', 1)\n",
            "('X_3', 1)\n",
            "('X_4', 1)\n",
            "('X_5', 1)\n"
          ],
          "name": "stdout"
        }
      ]
    },
    {
      "cell_type": "markdown",
      "metadata": {
        "id": "uMAVbFfEjqLK",
        "colab_type": "text"
      },
      "source": [
        "## Método de Composición para la Generación de V.A. Discretas"
      ]
    },
    {
      "cell_type": "code",
      "metadata": {
        "id": "htFPRMRkjqLL",
        "colab_type": "code",
        "colab": {}
      },
      "source": [
        "def composition_method():\n",
        "    \"\"\"\n",
        "    \"\"\"\n",
        "    random_number_1 = get_random_number()\n",
        "    random_number_2 = get_random_number()\n",
        "    \n",
        "    result = []\n",
        "    if(random_number_1 < 0.5):\n",
        "        result.append((\"X\", int(10 * random_number_2)))\n",
        "    else:\n",
        "        result.append((\"X\", int(5 * random_number_2) + 6))\n",
        "    return result"
      ],
      "execution_count": 0,
      "outputs": []
    },
    {
      "cell_type": "code",
      "metadata": {
        "id": "7j_67A8RjqLS",
        "colab_type": "code",
        "colab": {},
        "outputId": "ca8b6783-250f-4f49-a874-2ea25a6776eb"
      },
      "source": [
        "aleatory_variables = composition_method()\n",
        "for i in aleatory_variables:\n",
        "    print(i)"
      ],
      "execution_count": 0,
      "outputs": [
        {
          "output_type": "stream",
          "text": [
            "('X', 8)\n"
          ],
          "name": "stdout"
        }
      ]
    },
    {
      "cell_type": "markdown",
      "metadata": {
        "id": "AGp88ILJjqLX",
        "colab_type": "text"
      },
      "source": [
        "## Ejercicios 1, 3, 4 y 7 del capitulo 4"
      ]
    },
    {
      "cell_type": "markdown",
      "metadata": {
        "id": "fi0ewDmMjqLZ",
        "colab_type": "text"
      },
      "source": [
        "### Ejercicio 1\n",
        "Escriba un programa para generar $n$ valores a partir de la función de masa de probabilidad $p_1 = \\frac{1}{3}$, $p_2 = \\frac{2}{3}$\n",
        "- **_(a)_** Sea $n = 100$, ejecute el programa y determine la proporción de valores que sean iguales a 1.\n",
        "- **_(b)_** Repita _(a)_ con $n = 1000$.\n",
        "- **_(c)_** Repita _(a)_ con $n = 10000$."
      ]
    },
    {
      "cell_type": "code",
      "metadata": {
        "id": "Bvlu2npFjqLa",
        "colab_type": "code",
        "colab": {},
        "outputId": "965edb2f-78e1-46bc-aec3-3c7120b26ae5"
      },
      "source": [
        "def equal_to_one(list):\n",
        "    \"\"\"\n",
        "    \"\"\"\n",
        "    values_equal_to_one = 0\n",
        "    for i in list:\n",
        "        if(\"X_1\" in i[0]):\n",
        "            values_equal_to_one += 1\n",
        "    return values_equal_to_one\n",
        "\n",
        "probabilities = {\n",
        "    1: 1 / 3,\n",
        "    2: 2 / 3\n",
        "}\n",
        "results_100 = inverse_transform(100, probabilities)\n",
        "results_100 = equal_to_one(results_100)\n",
        "print(\"{} resultados son iguales a 1 para n = {}\".format(results_100, 100))\n",
        "\n",
        "results_1000 = inverse_transform(1000, probabilities)\n",
        "results_1000 = equal_to_one(results_1000)\n",
        "print(\"{} resultados son iguales a 1 para n = {}\".format(results_1000, 1000))\n",
        "\n",
        "results_10000 = inverse_transform(10000, probabilities)\n",
        "results_10000 = equal_to_one(results_10000)\n",
        "print(\"{} resultados son iguales a 1 para n = {}\".format(results_10000, 10000))"
      ],
      "execution_count": 0,
      "outputs": [
        {
          "output_type": "stream",
          "text": [
            "39 resultados son iguales a 1 para n = 100\n",
            "343 resultados son iguales a 1 para n = 1000\n",
            "3289 resultados son iguales a 1 para n = 10000\n"
          ],
          "name": "stdout"
        }
      ]
    },
    {
      "cell_type": "markdown",
      "metadata": {
        "id": "2I9-SPVzjqLg",
        "colab_type": "text"
      },
      "source": [
        "### Ejercicio 3\n",
        "Dé un algoritmo eficiente para simular el valor de una variable aleatoria X tal que\n",
        "$$ P\\{X=1\\}=0.3, P\\{X=2\\}=0.2, P\\{X=3\\}=0.35, P\\{X=4\\}=0.15, $$"
      ]
    },
    {
      "cell_type": "code",
      "metadata": {
        "id": "P8mk8FImjqLh",
        "colab_type": "code",
        "colab": {},
        "outputId": "c51faddb-195f-4a09-ebab-92313f2e6dd4"
      },
      "source": [
        "# El algoritmo fue originalmente implementado\n",
        "# de la manera eficiente. :D\n",
        "# Por lo tanto este punto ya está hecho.\n",
        "\n",
        "number_of_aleatory_variables = int(input(\"Número de Variables Aleatorias: \"))\n",
        "probability_dictionary = {\n",
        "    1: 0.3,\n",
        "    2: 0.2,\n",
        "    3: 0.35,\n",
        "    4: 0.15\n",
        "}\n",
        "\n",
        "\n",
        "aleatory_variables =  inverse_transform(number_of_aleatory_variables, probability_dictionary)\n",
        "for i in aleatory_variables:\n",
        "    print(i)"
      ],
      "execution_count": 0,
      "outputs": [
        {
          "output_type": "stream",
          "text": [
            "Número de Variables Aleatorias: 20\n",
            "('X_2', 0.6718527918699428)\n",
            "('X_1', 0.4937851603068002)\n",
            "('X_3', 0.2675017916841095)\n",
            "('X_3', 0.31570541265386265)\n",
            "('X_4', 0.8606620809753964)\n",
            "('X_4', 0.9529482497108153)\n",
            "('X_3', 0.32483539507737413)\n",
            "('X_1', 0.616928624878452)\n",
            "('X_3', 0.24707300946022848)\n",
            "('X_2', 0.7742048755852279)\n",
            "('X_3', 0.2773303102715722)\n",
            "('X_2', 0.7646081855631246)\n",
            "('X_3', 0.2394241165849854)\n",
            "('X_3', 0.1739987060625331)\n",
            "('X_3', 0.09973559185853875)\n",
            "('X_4', 0.960415111120618)\n",
            "('X_2', 0.8324697910285422)\n",
            "('X_3', 0.029750873070942485)\n",
            "('X_3', 0.2812676061602798)\n",
            "('X_2', 0.7033152464583622)\n"
          ],
          "name": "stdout"
        }
      ]
    },
    {
      "cell_type": "markdown",
      "metadata": {
        "id": "eP4qzqA4jqLm",
        "colab_type": "text"
      },
      "source": [
        "### Ejercicio 4\n",
        "Se baraja un conjunto de **100 cartas** (numeradas del 1 al 100) y luego se voltean, una a la vez. Decimos que ocurre un \"exito\" si la carta i es la *i*-ésima carta volteada, _i_ = 1,..., 100. Escriba un programa de simulación para estimar la esperanza y la varianza del número total de éxitos. Ejecute el programa. Determina las respuestas exactas y compárelas con sus estimaciones."
      ]
    },
    {
      "cell_type": "code",
      "metadata": {
        "id": "AY_zRa9WjqLo",
        "colab_type": "code",
        "colab": {}
      },
      "source": [
        ""
      ],
      "execution_count": 0,
      "outputs": []
    },
    {
      "cell_type": "markdown",
      "metadata": {
        "id": "XnVYudKQjqLs",
        "colab_type": "text"
      },
      "source": [
        "### Ejercicio 7\n",
        "Se lanza de manera continua un par de dados legales, hasta que todos los posibles resultados **2, 3,..., 12** hayan aparecido al menos una vez. Desarrolle un estudio de simulación para estimar el número esperado de lanzamientos necesarios."
      ]
    },
    {
      "cell_type": "code",
      "metadata": {
        "id": "jZ7dWo2MjqLw",
        "colab_type": "code",
        "colab": {},
        "outputId": "22e714af-b10a-404a-d3f6-3962a94596a5"
      },
      "source": [
        "def throw_dices():\n",
        "    \"\"\"\n",
        "    Lanza los dados y devuelve\n",
        "    los resultados como una tupla\n",
        "    \"\"\"\n",
        "    dice_a = random.randint(1, 6)\n",
        "    dice_b = random.randint(1, 6)\n",
        "    return (dice_a, dice_b)\n",
        "\n",
        "\n",
        "def sum_dices(dice_result):\n",
        "    \"\"\"\n",
        "    Suma el total de los\n",
        "    dos dados.\n",
        "    \"\"\"\n",
        "    return dice_result[0] + dice_result[1]\n",
        "\n",
        "\n",
        "def simulation_test():\n",
        "    \"\"\"\n",
        "    Cuenta el número de lanzamientos\n",
        "    necesarios para obtener todos los\n",
        "    posibles resultados.\n",
        "    \"\"\"\n",
        "    full_total = {} #almacenará los resultados como un diccionario.\n",
        "    drops = 0\n",
        "    \n",
        "    while(len(full_total) != 11): # 11 es el número total de posibles resultados\n",
        "        result = sum_dices(throw_dices())\n",
        "        full_total[result] = True\n",
        "        drops += 1\n",
        "    \n",
        "    return drops\n",
        "\n",
        "results = []\n",
        "number_of_throws = 10000\n",
        "for i in range(number_of_throws):\n",
        "    results.append(simulation_test())\n",
        "\n",
        "mean = sum(results) / number_of_throws\n",
        "print(\"Se necesitan en promedio {} lanzamientos para obtener todos los posibles resultados\".format(mean))"
      ],
      "execution_count": 0,
      "outputs": [
        {
          "output_type": "stream",
          "text": [
            "Se necesitan en promedio 60.8721 lanzamientos para obtener todos los posibles resultados\n"
          ],
          "name": "stdout"
        }
      ]
    }
  ]
}