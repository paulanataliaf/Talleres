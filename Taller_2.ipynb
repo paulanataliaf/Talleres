{
  "nbformat": 4,
  "nbformat_minor": 0,
  "metadata": {
    "kernelspec": {
      "display_name": "Python 3",
      "language": "python",
      "name": "python3"
    },
    "language_info": {
      "codemirror_mode": {
        "name": "ipython",
        "version": 3
      },
      "file_extension": ".py",
      "mimetype": "text/x-python",
      "name": "python",
      "nbconvert_exporter": "python",
      "pygments_lexer": "ipython3",
      "version": "3.7.4"
    },
    "colab": {
      "name": "Taller 2 - Generación de Variables Aleatorias Discretas.ipynb",
      "provenance": []
    }
  },
  "cells": [
    {
      "cell_type": "markdown",
      "metadata": {
        "id": "CWeytxHkYc1P",
        "colab_type": "text"
      },
      "source": [
        "# Generación de Variables Aleatorias Discretas"
      ]
    },
    {
      "cell_type": "markdown",
      "metadata": {
        "id": "oz2aeppgYc1S",
        "colab_type": "text"
      },
      "source": [
        "## Método de la Transformada Inversa"
      ]
    },
    {
      "cell_type": "code",
      "metadata": {
        "id": "jB8zsgAoYc1S",
        "colab_type": "code",
        "colab": {}
      },
      "source": [
        "import random\n",
        "import math\n",
        "\n",
        "def probable(probabilidad):\n",
        "    return probabilidad >= 0 and probabilidad <= 1\n",
        "\n",
        "def aprox_uno(valor):\n",
        "    return valor >= 0.99 and valor <= 1.01"
      ],
      "execution_count": 0,
      "outputs": []
    },
    {
      "cell_type": "code",
      "metadata": {
        "id": "A8XVlZtFYc1x",
        "colab_type": "code",
        "colab": {}
      },
      "source": [
        "def transformada_inversa(n_va, probabilidades):\n",
        "    datos = sorted(probabilidades.items(), key=lambda x: x[1]) #Organiza de menor a mayor\n",
        "    datos.reverse() #Revierte el orden para que esté organizado de mayor a menor\n",
        "    \n",
        "    resultados = [] #Almacena el resultado como una lista\n",
        "    \n",
        "    F_x = []\n",
        "    suma_acum = 0\n",
        "    \n",
        "    for key, value in datos:\n",
        "        suma_acum += value\n",
        "        F_x.append(suma_acum)\n",
        "        \n",
        "    if(not aprox_uno(suma_acum)):\n",
        "        raise Exception(\"El valor no asciende a 1\")\n",
        "        \n",
        "    for i in range(n_va):\n",
        "        num_random = random.random()\n",
        "        contador = 0\n",
        "        for i in F_x:\n",
        "            if(num_random < i):\n",
        "                key = \"X_{}\".format(datos[contador][0])\n",
        "                resultados.append((key, num_random))\n",
        "                break\n",
        "            contador += 1\n",
        "                \n",
        "    return resultados"
      ],
      "execution_count": 0,
      "outputs": []
    },
    {
      "cell_type": "code",
      "metadata": {
        "id": "2fNp-8AuYc2B",
        "colab_type": "code",
        "colab": {
          "base_uri": "https://localhost:8080/",
          "height": 123
        },
        "outputId": "9f13a033-3778-4735-d915-9e304eb6e69f"
      },
      "source": [
        "n_va = int(input(\"Número de Variables Aleatorias: \"))\n",
        "n_probabilidades = int(input(\"Número de probabilidades: \"))\n",
        "\n",
        "datos = {}\n",
        "for i in range(n_probabilidades):\n",
        "    key = i + 1\n",
        "    valor = -1\n",
        "    \n",
        "    while(not probable(valor)):\n",
        "        valor = float(input(\"Valor de p_{0}: \".format(key)))\n",
        "        if(not probable(valor)):\n",
        "            print(\"¡El valor no es una probabilidad!\")\n",
        "        \n",
        "    datos[key] = valor\n",
        "\n",
        "va =  transformada_inversa(n_va, datos)\n",
        "for i in va:\n",
        "    print(i)"
      ],
      "execution_count": 24,
      "outputs": [
        {
          "output_type": "stream",
          "text": [
            "Número de Variables Aleatorias: 2\n",
            "Número de probabilidades: 2\n",
            "Valor de p_1: 0.6\n",
            "Valor de p_2: 0.4\n",
            "('X_2', 0.7035216385438754)\n",
            "('X_2', 0.8012863601985719)\n"
          ],
          "name": "stdout"
        }
      ]
    },
    {
      "cell_type": "markdown",
      "metadata": {
        "id": "F3diK5EtYc2g",
        "colab_type": "text"
      },
      "source": [
        "## Método para la Generación de V.A. Poisson"
      ]
    },
    {
      "cell_type": "code",
      "metadata": {
        "id": "U6qVEzSQYc2g",
        "colab_type": "code",
        "colab": {}
      },
      "source": [
        "def poisson(n_va, lambd):\n",
        "    \"\"\"\n",
        "    \n",
        "    \"\"\"\n",
        "    resultados = []\n",
        "    for i in range(n_va):\n",
        "        num_random = random.random()\n",
        "        i = 0\n",
        "        p = math.e ** (-1 * lambd)\n",
        "        F = p\n",
        "        while(num_random >= F):\n",
        "            p = (lambd * p) / (i + 1)\n",
        "            F = F + p\n",
        "            i = i + 1\n",
        "\n",
        "        key = \"X_{}\".format(i)\n",
        "        resultados.append((key, num_random))\n",
        "    \n",
        "    return resultados"
      ],
      "execution_count": 0,
      "outputs": []
    },
    {
      "cell_type": "code",
      "metadata": {
        "id": "bIpQUA3SYc2v",
        "colab_type": "code",
        "colab": {
          "base_uri": "https://localhost:8080/",
          "height": 87
        },
        "outputId": "b8bca85d-3320-4171-9e1b-6644284c360b"
      },
      "source": [
        "n_va = int(input(\"Número de Variables Aleatorias: \"))\n",
        "lambd = float(input(\"Valor de lambda: \"))\n",
        "\n",
        "va =  poisson(n_va, lambd)\n",
        "for i in va:\n",
        "    print(i)"
      ],
      "execution_count": 26,
      "outputs": [
        {
          "output_type": "stream",
          "text": [
            "Número de Variables Aleatorias: 2\n",
            "Valor de lambda: 0.2\n",
            "('X_0', 0.3432123023266753)\n",
            "('X_0', 0.3779043886446032)\n"
          ],
          "name": "stdout"
        }
      ]
    },
    {
      "cell_type": "markdown",
      "metadata": {
        "id": "bbW8cYQkYc2_",
        "colab_type": "text"
      },
      "source": [
        "## Método para la Generación de V.A. Binomiales"
      ]
    },
    {
      "cell_type": "code",
      "metadata": {
        "id": "CbP3bFOwYc2_",
        "colab_type": "code",
        "colab": {}
      },
      "source": [
        "def binomial(n_va, ensayos, probabilidad_sucesos):\n",
        "    \"\"\"\n",
        "    \"\"\"\n",
        "    if(ensayos <= 0):\n",
        "        raise Exception(\"El número de ensayos debe ser mayor o igual a cero\")\n",
        "    elif(not probable(probabilidad_sucesos)):\n",
        "        raise Exception(\"El valor de probabilidad no está en el rango [0, 1]\")\n",
        "    \n",
        "    resultados = []\n",
        "    \n",
        "    for i in range(n_va):\n",
        "        num_random = random.random()\n",
        "\n",
        "        probabilidad_fallos = 1 - probabilidad_sucesos\n",
        "\n",
        "        c = probabilidad_sucesos / probabilidad_fallos\n",
        "        i = 0\n",
        "        pr = probabilidad_fallos ** ensayos\n",
        "        F = pr\n",
        "\n",
        "        while(num_random >= F):\n",
        "            pr = (c * (ensayos - i) / (i + 1)) * pr\n",
        "            F = F + pr\n",
        "            i = i + 1\n",
        "\n",
        "        key = \"X_{}\".format(i)\n",
        "        resultados.append((key, num_random))\n",
        "    \n",
        "    return resultados"
      ],
      "execution_count": 0,
      "outputs": []
    },
    {
      "cell_type": "code",
      "metadata": {
        "id": "u5IIvmW2Yc3P",
        "colab_type": "code",
        "colab": {
          "base_uri": "https://localhost:8080/",
          "height": 105
        },
        "outputId": "7b5de7e7-8950-4c96-cf9c-970594ae4339"
      },
      "source": [
        "n_va = int(input(\"Número de variables aleatorias: \"))\n",
        "ensayos = int(input(\"Número de ensayos a realizar: \"))\n",
        "probabilidad_sucesos = float(input(\"Probabilidad de que el ensayo sea exitoso: \"))\n",
        "\n",
        "va = binomial(n_va, ensayos, probabilidad_sucesos)\n",
        "for i in va:\n",
        "    print(i)"
      ],
      "execution_count": 28,
      "outputs": [
        {
          "output_type": "stream",
          "text": [
            "Número de variables aleatorias: 2\n",
            "Número de ensayos a realizar: 2\n",
            "Probabilidad de que el ensayo sea exitoso: 0.3\n",
            "('X_0', 0.0017295102495992198)\n",
            "('X_1', 0.6728312314474237)\n"
          ],
          "name": "stdout"
        }
      ]
    },
    {
      "cell_type": "markdown",
      "metadata": {
        "id": "Ddj4byL0Yc3P",
        "colab_type": "text"
      },
      "source": [
        "## Técnica de Aceptación y Rechazo para la Generación de V.A. Discretas"
      ]
    },
    {
      "cell_type": "code",
      "metadata": {
        "id": "FFiHtzy6Yc3f",
        "colab_type": "code",
        "colab": {}
      },
      "source": [
        "def calculate_c(list_p, list_q):\n",
        "    if(len(list_p) != len(list_q)):\n",
        "        raise Exception(\"La cantidad de valores en ambas listas debe ser igual.\")\n",
        "    \n",
        "    tamaño_lista = len(list_p)\n",
        "    division_list = []\n",
        "    for i in range(tamaño_lista):\n",
        "        division_list.append(list_p[i] / list_q[i])\n",
        "\n",
        "    return max(division_list)\n",
        "\n",
        "\n",
        "def operate_value(value, m):\n",
        "    \"\"\"\n",
        "    \"\"\"\n",
        "    return int(m * value)\n",
        "    \n",
        "\n",
        "def admit_or_refuse_technique(list_p, list_q):\n",
        "    \"\"\"\n",
        "    \"\"\"\n",
        "    if(len(list_p) != len(list_q)):\n",
        "        raise Exception(\"La cantidad de valores en ambas listas debe ser igual.\")\n",
        "    \n",
        "    result = []\n",
        "    \n",
        "    tamaño_lista = len(list_p)\n",
        "    for i in range(tamaño_lista):\n",
        "        simulated_y_value = 1\n",
        "        num_random = 0\n",
        "        p_y = 0\n",
        "        q_y = 1\n",
        "        c = 1\n",
        "        \n",
        "        while(num_random > p_y / (c * q_y)):\n",
        "            simulated_y_value = operate_value(list_q[i], list_size)\n",
        "            num_random = random.random()\n",
        "            p_y = list_p[simulated_y_value]\n",
        "            q_y = list_q[simulated_y_value]\n",
        "            c = calculate_c(list_p, list_q)\n",
        "        \n",
        "        key = \"X_{}\".format(i + 1)\n",
        "        result.append((key, simulated_y_value))\n",
        "    \n",
        "    return result"
      ],
      "execution_count": 0,
      "outputs": []
    },
    {
      "cell_type": "code",
      "metadata": {
        "id": "LGtDzjarYc3o",
        "colab_type": "code",
        "colab": {
          "base_uri": "https://localhost:8080/",
          "height": 105
        },
        "outputId": "ee993c60-5abc-4f5c-b3ab-cca4052ef17f"
      },
      "source": [
        "p_j = [0.1, 0.1, 0.1, 0.1, 0.6]\n",
        "q_j = [0.4, 0.2, 0.1, 0.1, 0.2]\n",
        "va = admit_or_refuse_technique(p_j, q_j)\n",
        "for i in va:\n",
        "    print(i)"
      ],
      "execution_count": 30,
      "outputs": [
        {
          "output_type": "stream",
          "text": [
            "('X_1', 1)\n",
            "('X_2', 1)\n",
            "('X_3', 1)\n",
            "('X_4', 1)\n",
            "('X_5', 1)\n"
          ],
          "name": "stdout"
        }
      ]
    },
    {
      "cell_type": "markdown",
      "metadata": {
        "id": "aVOyVFnmYc39",
        "colab_type": "text"
      },
      "source": [
        "## Método de Composición para la Generación de V.A. Discretas"
      ]
    },
    {
      "cell_type": "code",
      "metadata": {
        "id": "0WaWln8iYc4R",
        "colab_type": "code",
        "colab": {}
      },
      "source": [
        "def composicion():\n",
        "    num_random_1 = random.random()\n",
        "    num_random_2 = random.random()\n",
        "    \n",
        "    resultados = []\n",
        "    if(num_random_1 < 0.5):\n",
        "        resultados.append((\"X\", int(10 * num_random_2)))\n",
        "    else:\n",
        "        resultados.append((\"X\", int(5 * num_random_2) + 6))\n",
        "    return resultados"
      ],
      "execution_count": 0,
      "outputs": []
    },
    {
      "cell_type": "code",
      "metadata": {
        "id": "e8enPm34Yc4a",
        "colab_type": "code",
        "colab": {
          "base_uri": "https://localhost:8080/",
          "height": 34
        },
        "outputId": "949f511e-2662-40df-811d-e5ed0ba68854"
      },
      "source": [
        "va = composicion()\n",
        "for i in va:\n",
        "    print(i)"
      ],
      "execution_count": 32,
      "outputs": [
        {
          "output_type": "stream",
          "text": [
            "('X', 5)\n"
          ],
          "name": "stdout"
        }
      ]
    },
    {
      "cell_type": "markdown",
      "metadata": {
        "id": "VoW0-ZJ8Yc4n",
        "colab_type": "text"
      },
      "source": [
        "## Ejercicios 1, 3, 4 y 7 del capitulo 4"
      ]
    },
    {
      "cell_type": "markdown",
      "metadata": {
        "id": "JhR-TcnlYc4p",
        "colab_type": "text"
      },
      "source": [
        "### Ejercicio 1\n",
        "Escriba un programa para generar $n$ valores a partir de la función de masa de probabilidad $p_1 = \\frac{1}{3}$, $p_2 = \\frac{2}{3}$\n",
        "- **_(a)_** Sea $n = 100$, ejecute el programa y determine la proporción de valores que sean iguales a 1.\n",
        "- **_(b)_** Repita _(a)_ con $n = 1000$.\n",
        "- **_(c)_** Repita _(a)_ con $n = 10000$."
      ]
    },
    {
      "cell_type": "code",
      "metadata": {
        "id": "_YVAU9cLYc4s",
        "colab_type": "code",
        "colab": {
          "base_uri": "https://localhost:8080/",
          "height": 70
        },
        "outputId": "707e8648-e96c-4990-ecd1-53f5d609c7c8"
      },
      "source": [
        "def igual_uno(list):\n",
        "    \"\"\"\n",
        "    \"\"\"\n",
        "    valor_igual_uno = 0\n",
        "    for i in list:\n",
        "        if(\"X_1\" in i[0]):\n",
        "            valor_igual_uno += 1\n",
        "    return valor_igual_uno\n",
        "\n",
        "probabilidades = {\n",
        "    1: 1 / 3,\n",
        "    2: 2 / 3\n",
        "}\n",
        "resultados_100 = transformada_inversa(100, probabilidades)\n",
        "resultados_100 = igual_uno(resultados_100)\n",
        "print(\"{} resultados son iguales a 1 para n = {}\".format(resultados_100, 100))\n",
        "\n",
        "resultados_1000 = transformada_inversa(1000, probabilidades)\n",
        "resultados_1000 = igual_uno(resultados_1000)\n",
        "print(\"{} resultados son iguales a 1 para n = {}\".format(resultados_1000, 1000))\n",
        "\n",
        "resultados_10000 = transformada_inversa(10000, probabilidades)\n",
        "resultados_10000 = igual_uno(resultados_10000)\n",
        "print(\"{} resultados son iguales a 1 para n = {}\".format(resultados_10000, 10000))"
      ],
      "execution_count": 33,
      "outputs": [
        {
          "output_type": "stream",
          "text": [
            "28 resultados son iguales a 1 para n = 100\n",
            "341 resultados son iguales a 1 para n = 1000\n",
            "3339 resultados son iguales a 1 para n = 10000\n"
          ],
          "name": "stdout"
        }
      ]
    },
    {
      "cell_type": "markdown",
      "metadata": {
        "id": "7EOjxVRQYc4u",
        "colab_type": "text"
      },
      "source": [
        "### Ejercicio 3\n",
        "Dé un algoritmo eficiente para simular el valor de una variable aleatoria X tal que\n",
        "$$ P\\{X=1\\}=0.3, P\\{X=2\\}=0.2, P\\{X=3\\}=0.35, P\\{X=4\\}=0.15, $$"
      ]
    },
    {
      "cell_type": "code",
      "metadata": {
        "id": "ML7ZBOF8Yc4u",
        "colab_type": "code",
        "colab": {
          "base_uri": "https://localhost:8080/",
          "height": 70
        },
        "outputId": "a8fec6ec-f391-487d-8799-0afa0663c3fc"
      },
      "source": [
        "n_va = int(input(\"Número de Variables Aleatorias: \"))\n",
        "datos = {\n",
        "    1: 0.3,\n",
        "    2: 0.2,\n",
        "    3: 0.35,\n",
        "    4: 0.15\n",
        "}\n",
        "va =  transformada_inversa(n_va, datos)\n",
        "for i in va:\n",
        "    print(i)"
      ],
      "execution_count": 34,
      "outputs": [
        {
          "output_type": "stream",
          "text": [
            "Número de Variables Aleatorias: 2\n",
            "('X_2', 0.6848557935510861)\n",
            "('X_1', 0.5591728437602217)\n"
          ],
          "name": "stdout"
        }
      ]
    },
    {
      "cell_type": "code",
      "metadata": {
        "id": "Cv-6aU6MYc4u",
        "colab_type": "code",
        "colab": {}
      },
      "source": [
        ""
      ],
      "execution_count": 0,
      "outputs": []
    },
    {
      "cell_type": "markdown",
      "metadata": {
        "id": "WH8wxBfWYc5G",
        "colab_type": "text"
      },
      "source": [
        "### Ejercicio 7\n",
        "Se lanza de manera continua un par de dados legales, hasta que todos los posibles resultados **2, 3,..., 12** hayan aparecido al menos una vez. Desarrolle un estudio de simulación para estimar el número esperado de lanzamientos necesarios."
      ]
    },
    {
      "cell_type": "code",
      "metadata": {
        "id": "bgysE3V5Yc5H",
        "colab_type": "code",
        "colab": {
          "base_uri": "https://localhost:8080/",
          "height": 34
        },
        "outputId": "cdd98bb6-f1e6-43a4-f723-f5d684e82509"
      },
      "source": [
        "def dados():\n",
        "    dice_a = random.randint(1, 6)\n",
        "    dice_b = random.randint(1, 6)\n",
        "    return (dice_a, dice_b)\n",
        "\n",
        "\n",
        "def suma_dados(dice_result):\n",
        "    return dice_result[0] + dice_result[1]\n",
        "\n",
        "\n",
        "def prueba():\n",
        "    \"\"\"\n",
        "    Cuenta el número de lanzamientos\n",
        "    necesarios para obtener todos los\n",
        "    posibles resultados.\n",
        "    \"\"\"\n",
        "    total = {} #almacenará los resultados como un diccionario.\n",
        "    d = 0\n",
        "    \n",
        "    while(len(total) != 11): # 11 es el número total de posibles resultados\n",
        "        resultados = suma_dados(dados())\n",
        "        total[resultados] = True\n",
        "        d += 1\n",
        "    \n",
        "    return d\n",
        "\n",
        "resultados = []\n",
        "lanzamientos = 10000\n",
        "for i in range(lanzamientos):\n",
        "    resultados.append(prueba())\n",
        "\n",
        "promedido = sum(resultados) / lanzamientos\n",
        "print(\"Se necesitan en promedio {} lanzamientos para obtener todos los posibles resultados\".format(promedido))"
      ],
      "execution_count": 35,
      "outputs": [
        {
          "output_type": "stream",
          "text": [
            "Se necesitan en promedio 61.4216 lanzamientos para obtener todos los posibles resultados\n"
          ],
          "name": "stdout"
        }
      ]
    }
  ]
}