{
 "cells": [
  {
   "cell_type": "markdown",
   "metadata": {},
   "source": [
    "# Taller 0 \n",
    "Natalia\n",
    "160003343\n"
   ]
  },
  {
   "cell_type": "markdown",
   "metadata": {},
   "source": [
    "# Metodo Monte Carlo\n"
   ]
  },
  {
   "cell_type": "code",
   "execution_count": 4,
   "metadata": {},
   "outputs": [
    {
     "name": "stdout",
     "output_type": "stream",
     "text": [
      "0.8833370922424237\n"
     ]
    }
   ],
   "source": [
    "import random\n",
    "\n",
    "import math\n",
    "\n",
    "numero=0\n",
    "s=0\n",
    "\n",
    "while numero<10000:\n",
    "    x=2 * random.random()\n",
    "    y=2 * math.exp(x*x*(-1))\n",
    "    s=s+y\n",
    "    numero=numero+1\n",
    "    \n",
    "print (s/numero)"
   ]
  },
  {
   "cell_type": "markdown",
   "metadata": {},
   "source": [
    "# Metodo Trapecio\n",
    "\n"
   ]
  },
  {
   "cell_type": "code",
   "execution_count": 6,
   "metadata": {},
   "outputs": [
    {
     "name": "stdout",
     "output_type": "stream",
     "text": [
      "0.8797520661078067\n"
     ]
    }
   ],
   "source": [
    "import math\n",
    "\n",
    "s= 0\n",
    "espacio= 0.1\n",
    "x1= 0\n",
    "x2= espacio\n",
    "\n",
    "\n",
    "while x2 <= 2:\n",
    "     fx2= math.exp(x2*x2*(-1))\n",
    "     tria= (math.exp(x1*x1*(-1))-fx2)*espacio/2\n",
    "     s=s+tria+(fx2*espacio)\n",
    "     x1= x2\n",
    "     x2= x2+espacio\n",
    "     \n",
    "print (s)"
   ]
  },
  {
   "cell_type": "markdown",
   "metadata": {},
   "source": [
    "# comparación"
   ]
  },
  {
   "cell_type": "markdown",
   "metadata": {},
   "source": [
    "0.8833370922424237 M. Monte Carlo\n",
    "0.8797520661078067 M. Trapecio"
   ]
  },
  {
   "cell_type": "code",
   "execution_count": null,
   "metadata": {
    "collapsed": true
   },
   "outputs": [],
   "source": []
  }
 ],
 "metadata": {
  "kernelspec": {
   "display_name": "Python 3",
   "language": "python",
   "name": "python3"
  },
  "language_info": {
   "codemirror_mode": {
    "name": "ipython",
    "version": 3
   },
   "file_extension": ".py",
   "mimetype": "text/x-python",
   "name": "python",
   "nbconvert_exporter": "python",
   "pygments_lexer": "ipython3",
   "version": "3.7.4"
  }
 },
 "nbformat": 4,
 "nbformat_minor": 2
}
