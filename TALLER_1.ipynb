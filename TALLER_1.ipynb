{
 "cells": [
  {
   "cell_type": "code",
   "execution_count": 36,
   "metadata": {
    "colab": {
     "base_uri": "https://localhost:8080/",
     "height": 354
    },
    "colab_type": "code",
    "id": "-4gBrEsWBcvH",
    "outputId": "e8c0fa69-7027-4d5b-e2b2-bf5ab6756d41"
   },
   "outputs": [
    {
     "name": "stdout",
     "output_type": "stream",
     "text": [
      "Bienvenido, Ingrese 1 Para N Aleatorios por MIdSquare, Ingrese 2 Por Método Mixto\n",
      "2\n",
      "Ingrese Valor de x inical, a, c & M en el respectivo orden\n",
      "5\n",
      "3\n",
      "0\n",
      "150\n",
      "Ingrese Cantidad de repeticiones\n",
      "10\n",
      "X 1 :  15   0.1\n",
      "X 2 :  45   0.3\n",
      "X 3 :  135   0.9\n",
      "X 4 :  105   0.7\n",
      "X 5 :  15   0.1\n",
      "X 6 :  45   0.3\n",
      "X 7 :  135   0.9\n",
      "X 8 :  105   0.7\n",
      "X 9 :  15   0.1\n",
      "X 10 :  45   0.3\n"
     ]
    }
   ],
   "source": [
    "print(\"Bienvenido, Ingrese 1 Para N Aleatorios por MIdSquare, Ingrese 2 Por Método Mixto\")\n",
    "opcion = int(input())\n",
    "\n",
    "if opcion == 1:\n",
    "\n",
    "  print(\"Ingrese Valor de la Semilla:  \")\n",
    "  semilla = input()\n",
    "  print(\"Cantidad de Número Aleatorios:  \")\n",
    "  cantidad = int(input())\n",
    "\n",
    "  tamaño = int(len(semilla))      #Conocer Cantidad de Digitos, serán los mismos que se tomarán después\n",
    "  par = len(semilla)%2            #Cantidad de Digitos debe ser PAR\n",
    "  espacio = int(len(semilla)/2)   #A partir de X Digitos libres a la derecha se toma el nuevo valor\n",
    "  division = 10**len(semilla)     #Número por el que se divide para conocer probrabilidad\n",
    "  valor = int(semilla)            #Convertir Valor en Entero                   \n",
    "  print()\n",
    "\n",
    "  if par == 0:\n",
    "\n",
    "    for i in range(0,cantidad):   #Repite según cantidad de N aleatorios solicitado\n",
    "      valor = valor**2            #Valor elevado al Cuadrado\n",
    "      semilla = str(valor)        #Convertir el valor en Cadena\n",
    "      nuevo = \"\"                  #Iremos concatenando \n",
    "\n",
    "      for j in range (0, tamaño):\n",
    "\n",
    "        nuevo = semilla [(len(semilla)-(j+1))-espacio]+nuevo    #Vamos tomando los digitos del Nuevo valor y concatenando\n",
    "\n",
    "      valor = int(nuevo)          #Nuevo valor convertido en Entero\n",
    "      final = valor/division      #División para conocer probabilidad\n",
    "\n",
    "      print(\"X\",i+1,\": \",valor,\" \", final)\n",
    "      \n",
    "if opcion == 2:\n",
    "  print(\"Ingrese Valor de x inical, a, c & M en el respectivo orden\")\n",
    "  x = int(input())\n",
    "  a = int(input())\n",
    "  c = int(input())\n",
    "  m = int(input())\n",
    "  \n",
    "  print(\"Ingrese Cantidad de repeticiones\")\n",
    "  rept = int(input())\n",
    "  \n",
    "  for i in range(0,rept):\n",
    "  \n",
    "    xn = int((a*x)+c)\n",
    "    x = int(xn%m)\n",
    "    ui = float(x/m)\n",
    "    print(\"X\",i+1,\": \",x,\" \", ui)\n",
    "    xn = ui\n",
    "  "
   ]
  }
 ],
 "metadata": {
  "colab": {
   "collapsed_sections": [],
   "name": "TALLER_0",
   "provenance": []
  },
  "kernelspec": {
   "display_name": "Python 3",
   "language": "python",
   "name": "python3"
  },
  "language_info": {
   "codemirror_mode": {
    "name": "ipython",
    "version": 3
   },
   "file_extension": ".py",
   "mimetype": "text/x-python",
   "name": "python",
   "nbconvert_exporter": "python",
   "pygments_lexer": "ipython3",
   "version": "3.7.4"
  }
 },
 "nbformat": 4,
 "nbformat_minor": 1
}
