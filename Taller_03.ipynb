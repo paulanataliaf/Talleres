{
  "nbformat": 4,
  "nbformat_minor": 0,
  "metadata": {
    "colab": {
      "name": "Taller_03.ipynb",
      "provenance": [],
      "collapsed_sections": []
    },
    "kernelspec": {
      "name": "python3",
      "display_name": "Python 3"
    }
  },
  "cells": [
    {
      "cell_type": "markdown",
      "metadata": {
        "id": "DkW_i-YIhnw0",
        "colab_type": "text"
      },
      "source": [
        "# Test de Uniformidad y Aleatoriedad\n"
      ]
    },
    {
      "cell_type": "markdown",
      "metadata": {
        "id": "3bhea39flrLj",
        "colab_type": "text"
      },
      "source": [
        "###Importaciones\n"
      ]
    },
    {
      "cell_type": "code",
      "metadata": {
        "id": "q9MV9COplvJw",
        "colab_type": "code",
        "outputId": "c70b47ae-9a11-4951-c41e-5641f397a604",
        "colab": {
          "base_uri": "https://localhost:8080/",
          "height": 34
        }
      },
      "source": [
        "!pip install numpy\n",
        "\n",
        "%matplotlib inline\n",
        "\n",
        "import numpy as np\n",
        "import matplotlib.pyplot as plt\n",
        "import random\n",
        "import scipy as sp\n",
        "import math\n",
        "import scipy.stats as stats"
      ],
      "execution_count": 1,
      "outputs": [
        {
          "output_type": "stream",
          "text": [
            "Requirement already satisfied: numpy in /usr/local/lib/python3.6/dist-packages (1.17.5)\n"
          ],
          "name": "stdout"
        }
      ]
    },
    {
      "cell_type": "markdown",
      "metadata": {
        "id": "Ddr4DktvlgSZ",
        "colab_type": "text"
      },
      "source": [
        "###Generador Aletorio \n"
      ]
    },
    {
      "cell_type": "code",
      "metadata": {
        "id": "N-zL0-bmlld8",
        "colab_type": "code",
        "colab": {}
      },
      "source": [
        "def get_numeros_aletorios(tam):\n",
        "    \"\"\"\n",
        "    \"\"\"\n",
        "    datos = np.zeros(tam)\n",
        "    for i in range(tam):\n",
        "        datos[i] = random.random()\n",
        "    return datos"
      ],
      "execution_count": 0,
      "outputs": []
    },
    {
      "cell_type": "markdown",
      "metadata": {
        "id": "54vbCk03j222",
        "colab_type": "text"
      },
      "source": [
        "### Kolmogorov-Smirnov"
      ]
    },
    {
      "cell_type": "code",
      "metadata": {
        "id": "logM8R6NkDUT",
        "colab_type": "code",
        "colab": {}
      },
      "source": [
        "def kolmogorov (x_aleatorios):\n",
        "  x_uniformes = np.arange(  1 / tam, 1 + 1 / tam, 1 / tam)\n",
        "  valores_uniformes = [1.0] * tam\n",
        "\n",
        "  y_aleatorios = np.cumsum(x_aleatorios / np.max(np.cumsum(x_aleatorios)))\n",
        "  y_uniformes = np.cumsum(valores_uniformes / np.max(np.cumsum(valores_uniformes)))\n",
        "  D = np.max(np.absolute(y_aleatorios - y_uniformes))\n",
        "\n",
        "  print(\"D del generador con kolmogorov es: {}\".format(D))"
      ],
      "execution_count": 0,
      "outputs": []
    },
    {
      "cell_type": "markdown",
      "metadata": {
        "id": "enAUspzgmT5N",
        "colab_type": "text"
      },
      "source": [
        "###Chi-Cuadrado"
      ]
    },
    {
      "cell_type": "code",
      "metadata": {
        "id": "P1xOpcAmmae9",
        "colab_type": "code",
        "colab": {}
      },
      "source": [
        "def chi_cuadrado(valores_aleatorios):\n",
        "\n",
        "    frecuencias, bins, patches = plt.hist(valores_aleatorios, clases)\n",
        "    plt.show()\n",
        "    expectativa = tam / clases\n",
        "    \n",
        "    sumatoria = 0\n",
        "    for value in frecuencias:\n",
        "        cuadrado = (value - expectativa) ** 2\n",
        "        division = cuadrado / expectativa\n",
        "        sumatoria += division\n",
        "\n",
        "    if(sumatoria > clases-1):\n",
        "      print(\"Aceptado Chi_cuadrado\")\n",
        "    else:\n",
        "      print(\"Rechazado Chi-Cuadrado\")\n",
        "\n",
        "    print(sumatoria)"
      ],
      "execution_count": 0,
      "outputs": []
    },
    {
      "cell_type": "markdown",
      "metadata": {
        "id": "Q9oUF6lHt09e",
        "colab_type": "text"
      },
      "source": [
        "##No Solapadas\n"
      ]
    },
    {
      "cell_type": "code",
      "metadata": {
        "id": "jLm8Mk5lt732",
        "colab_type": "code",
        "colab": {}
      },
      "source": [
        "def no_solapadas(valores_aleatorios):\n",
        "\n",
        "  x_aleatorios = np.sort(valores_aleatorios)\n",
        "  global tam\n",
        "  global clases\n",
        "\n",
        "  yi = []\n",
        "  yi_2 = []\n",
        "  oi = []\n",
        "  aux = 0\n",
        "  aux2 = 1/clases\n",
        "  k = 1\n",
        "  a = 0\n",
        "  coma = ','\n",
        "  esperado = 0\n",
        "  contador = 0\n",
        "\n",
        "  print(clases)\n",
        "  for i in range(clases):\n",
        "    while (a == 0): #cuando a = 1 es porque ya se encontró su clase y avanza el for\n",
        "      if aux < x_aleatorios[i] and x_aleatorios[i] < aux2 :\n",
        "        yi.append(k)\n",
        "        k = 1\n",
        "        if i%2 == 0: #Si es par, entonces unimos los valores con coma\n",
        "          for j in range(2):        \n",
        "              c = str(yi[i-1]) + coma + str(yi[i]) #Los que ya se han agregado\n",
        "              yi_2.append(c)\n",
        "        a = 1\n",
        "      else:\n",
        "        aux = aux + (1/clases)\n",
        "        aux2 = aux2 + (1/clases)\n",
        "        k = k + 1 \n",
        "\n",
        "  #ahora encontramos cuántos hay repetidos y agregamos a Oi \n",
        "  \n",
        "  for i in range(len(yi_2)):\n",
        "    for j in range(len(yi_2)-1):\n",
        "      if yi_2[i] == yi_2[j+1]:\n",
        "        contador += 1 \n",
        "    oi.append(contador)\n",
        "  \n",
        "  print(\"No Solapadas\")\n",
        "  chi_cuadrado(oi)\n",
        "               "
      ],
      "execution_count": 0,
      "outputs": []
    },
    {
      "cell_type": "markdown",
      "metadata": {
        "id": "DZFuBCq5vvQ1",
        "colab_type": "text"
      },
      "source": [
        "###Pruebas de Rachas"
      ]
    },
    {
      "cell_type": "markdown",
      "metadata": {
        "id": "nLK-IRnQ3ruC",
        "colab_type": "text"
      },
      "source": [
        ""
      ]
    },
    {
      "cell_type": "code",
      "metadata": {
        "id": "o8cHUQUv-MhB",
        "colab_type": "code",
        "colab": {}
      },
      "source": [
        "def test_rachas(valores_aleatorios):\n",
        "  total_rachas = []\n",
        "  for i in range(len(valores_aleatorios)-1):\n",
        "    if valores_aleatorios[i] > valores_aleatorios[i+1]:\n",
        "      total_rachas.append(0)\n",
        "    elif valores_aleatorios[i] < valores_aleatorios[i+1]:\n",
        "      total_rachas.append(1)\n",
        "\n",
        "  R=1 \n",
        "  for i in range(len(total_rachas)-1):\n",
        "    if total_rachas[i]!=total_rachas[i+1]: \n",
        "      R+=1\n",
        "    \n",
        "  Z = (R - (2*tam-1)/float(3))/math.sqrt((16*tam-29)/float(90))\n",
        "  print (\"|Z|= \")\n",
        "  print (np.absolute(Z),\"\\n\")\n",
        "  z=np.absolute(Z)\n",
        "  \n",
        "  if(z<1.960):\n",
        "    print(\"Aceptada la prueba de rachas\\n\")\n",
        "  else:\n",
        "    print(\"Rechazada la prueba de rachas\\n\")\n"
      ],
      "execution_count": 0,
      "outputs": []
    },
    {
      "cell_type": "markdown",
      "metadata": {
        "id": "NuzSVppvBjEE",
        "colab_type": "text"
      },
      "source": [
        "##PRUEBA CON GENERADOR RANDOM"
      ]
    },
    {
      "cell_type": "code",
      "metadata": {
        "id": "b5agb0q3TK5A",
        "colab_type": "code",
        "colab": {}
      },
      "source": [
        "def generador_random():\n",
        "\n",
        "  valores_aleatorios = np.zeros(tam)\n",
        "  valores_aleatorios = get_numeros_aletorios(tam)\n",
        "  x_aleatorios = np.zeros(tam)\n",
        "  x_aleatorios = np.sort(valores_aleatorios)\n",
        "\n",
        "  chi_cuadrado(valores_aleatorios)\n",
        "  kolmogorov(x_aleatorios)\n",
        "  test_rachas(valores_aleatorios)"
      ],
      "execution_count": 0,
      "outputs": []
    },
    {
      "cell_type": "markdown",
      "metadata": {
        "id": "8Ip9-rJGKB3d",
        "colab_type": "text"
      },
      "source": [
        "#TAMAÑO"
      ]
    },
    {
      "cell_type": "code",
      "metadata": {
        "id": "6r9w0jy_IRpf",
        "colab_type": "code",
        "colab": {}
      },
      "source": [
        "tam = 100\n",
        "clases = 20"
      ],
      "execution_count": 0,
      "outputs": []
    },
    {
      "cell_type": "markdown",
      "metadata": {
        "id": "yUpoDzJHpT5b",
        "colab_type": "text"
      },
      "source": [
        "###Generadores "
      ]
    },
    {
      "cell_type": "code",
      "metadata": {
        "id": "bgtbonF1pba-",
        "colab_type": "code",
        "colab": {}
      },
      "source": [
        "def randu(x):\n",
        "    xi = x\n",
        "    r = []\n",
        "    for i in range(tam):\n",
        "        xi = (65539*xi)%(2**31)\n",
        "        \n",
        "        r.append(float(xi)/(2**31))\n",
        "    return r\n",
        "\n",
        "def gSinclair(x):\n",
        "    xi = x\n",
        "    r = []\n",
        "    for i in range(tam):\n",
        "        xi = (75*xi)%((2**16)+1)\n",
        "        r.append(float(xi)/((2**16)+1))\n",
        "    return r\n",
        "\n",
        "def numericalReciepies(x):\n",
        "    xi = x\n",
        "    r = []\n",
        "    for i in range(tam):\n",
        "        xi = (1664525*xi+1013904223)%(2**32)\n",
        "        r.append(float(xi)/2**32)\n",
        "    return r\n",
        "def borland(x):\n",
        "    xi = x\n",
        "    r = []\n",
        "    for i in range(tam):\n",
        "        xi = (22695477*xi+1)%(2**32)\n",
        "        r.append(float(xi)/2**32)\n",
        "    return r"
      ],
      "execution_count": 0,
      "outputs": []
    },
    {
      "cell_type": "markdown",
      "metadata": {
        "id": "qVKE0dOlCDXr",
        "colab_type": "text"
      },
      "source": [
        "##PRUEBA CON GENERADORES\n",
        "\n"
      ]
    },
    {
      "cell_type": "code",
      "metadata": {
        "id": "yqxXJ9SYCIeZ",
        "colab_type": "code",
        "colab": {}
      },
      "source": [
        "def generadores():\n",
        "  semilla = 4\n",
        "\n",
        "  print(\"Generador Randu\")\n",
        "  valores_aleatorios = np.zeros(tam)\n",
        "  valores_aleatorios = randu(semilla)\n",
        "\n",
        "  x_aleatorios = np.zeros(tam)\n",
        "  x_aleatorios = np.sort(valores_aleatorios)\n",
        "\n",
        "  test_rachas(valores_aleatorios)\n",
        "  kolmogorov(x_aleatorios)\n",
        "  chi_cuadrado(valores_aleatorios)\n",
        "  no_solapadas(valores_aleatorios)\n",
        "\n",
        "  print(\"Generador Sinclair\")\n",
        "  valores_aleatorios = np.zeros(tam)\n",
        "  valores_aleatorios = gSinclair(semilla)\n",
        "\n",
        "  x_aleatorios = np.zeros(tam)\n",
        "  x_aleatorios = np.sort(valores_aleatorios)\n",
        "\n",
        "  test_rachas(valores_aleatorios)\n",
        "  kolmogorov(x_aleatorios)\n",
        "  chi_cuadrado(valores_aleatorios)\n",
        "  no_solapadas(valores_aleatorios)\n",
        "\n",
        "  print(\"Generador Numerical Reciepes\")\n",
        "  valores_aleatorios = np.zeros(tam)\n",
        "  valores_aleatorios = numericalReciepies(semilla)\n",
        "\n",
        "  x_aleatorios = np.zeros(tam)\n",
        "  x_aleatorios = np.sort(valores_aleatorios)\n",
        "\n",
        "  test_rachas(valores_aleatorios)\n",
        "  kolmogorov(x_aleatorios)\n",
        "  chi_cuadrado(valores_aleatorios)\n",
        "  no_solapadas(valores_aleatorios)\n",
        "\n",
        "  print(\"Generador borland\")\n",
        "  valores_aleatorios = np.zeros(tam)\n",
        "  valores_aleatorios = borland(semilla)\n",
        "\n",
        "  x_aleatorios = np.zeros(tam)\n",
        "  x_aleatorios = np.sort(valores_aleatorios)\n",
        "\n",
        "  test_rachas(valores_aleatorios)\n",
        "  kolmogorov(x_aleatorios)\n",
        "  chi_cuadrado(valores_aleatorios)\n",
        "  no_solapadas(valores_aleatorios)"
      ],
      "execution_count": 0,
      "outputs": []
    },
    {
      "cell_type": "markdown",
      "metadata": {
        "id": "3Acs6uLDGAp_",
        "colab_type": "text"
      },
      "source": [
        "#INICIO"
      ]
    },
    {
      "cell_type": "code",
      "metadata": {
        "id": "jFi0rBRaGDt_",
        "colab_type": "code",
        "outputId": "c105eadb-96e4-4e03-b1b7-51130a55e47d",
        "colab": {
          "base_uri": "https://localhost:8080/",
          "height": 1000
        }
      },
      "source": [
        "print(\"Pruebas con generador Random\")\n",
        "generador_random()\n",
        "print(\"Pruebas con generadores\")\n",
        "generadores()\n"
      ],
      "execution_count": 11,
      "outputs": [
        {
          "output_type": "stream",
          "text": [
            "Pruebas con generador Random\n"
          ],
          "name": "stdout"
        },
        {
          "output_type": "display_data",
          "data": {
            "image/png": "[encoded data removed]",
            "text/plain": [
              "<Figure size 432x288 with 1 Axes>"
            ]
          },
          "metadata": {
            "tags": []
          }
        },
        {
          "output_type": "stream",
          "text": [
            "Aceptado Chi_cuadrado\n",
            "23.2\n",
            "D del generador con kolmogorov es: 0.2393994400457265\n",
            "|Z|= \n",
            "0.6382662704186793 \n",
            "\n",
            "Aceptada la prueba de rachas\n",
            "\n",
            "Pruebas con generadores\n",
            "Generador Randu\n",
            "|Z|= \n",
            "0.07978328380233364 \n",
            "\n",
            "Aceptada la prueba de rachas\n",
            "\n",
            "D del generador con kolmogorov es: 0.29251095477205763\n"
          ],
          "name": "stdout"
        },
        {
          "output_type": "display_data",
          "data": {
            "image/png": "[encoded data removed]",
            "text/plain": [
              "<Figure size 432x288 with 1 Axes>"
            ]
          },
          "metadata": {
            "tags": []
          }
        },
        {
          "output_type": "stream",
          "text": [
            "Aceptado Chi_cuadrado\n",
            "19.2\n",
            "20\n",
            "No Solapadas\n"
          ],
          "name": "stdout"
        },
        {
          "output_type": "display_data",
          "data": {
            "image/png": "[encoded data removed]",
            "text/plain": [
              "<Figure size 432x288 with 1 Axes>"
            ]
          },
          "metadata": {
            "tags": []
          }
        },
        {
          "output_type": "stream",
          "text": [
            "Aceptado Chi_cuadrado\n",
            "96.4\n",
            "Generador Sinclair\n",
            "|Z|= \n",
            "0.07978328380233364 \n",
            "\n",
            "Aceptada la prueba de rachas\n",
            "\n",
            "D del generador con kolmogorov es: 0.21511232526572382\n"
          ],
          "name": "stdout"
        },
        {
          "output_type": "display_data",
          "data": {
            "image/png": "[encoded data removed]",
            "text/plain": [
              "<Figure size 432x288 with 1 Axes>"
            ]
          },
          "metadata": {
            "tags": []
          }
        },
        {
          "output_type": "stream",
          "text": [
            "Rechazado Chi-Cuadrado\n",
            "15.2\n",
            "20\n",
            "No Solapadas\n"
          ],
          "name": "stdout"
        },
        {
          "output_type": "display_data",
          "data": {
            "image/png": "[encoded data removed]",
            "text/plain": [
              "<Figure size 432x288 with 1 Axes>"
            ]
          },
          "metadata": {
            "tags": []
          }
        },
        {
          "output_type": "stream",
          "text": [
            "Aceptado Chi_cuadrado\n",
            "96.4\n",
            "Generador Numerical Reciepes\n",
            "|Z|= \n",
            "0.398916419011675 \n",
            "\n",
            "Aceptada la prueba de rachas\n",
            "\n",
            "D del generador con kolmogorov es: 0.24127093077539535\n"
          ],
          "name": "stdout"
        },
        {
          "output_type": "display_data",
          "data": {
            "image/png": "[encoded data removed]",
            "text/plain": [
              "<Figure size 432x288 with 1 Axes>"
            ]
          },
          "metadata": {
            "tags": []
          }
        },
        {
          "output_type": "stream",
          "text": [
            "Aceptado Chi_cuadrado\n",
            "19.2\n",
            "20\n",
            "No Solapadas\n"
          ],
          "name": "stdout"
        },
        {
          "output_type": "display_data",
          "data": {
            "image/png": "[encoded data removed]",
            "text/plain": [
              "<Figure size 432x288 with 1 Axes>"
            ]
          },
          "metadata": {
            "tags": []
          }
        },
        {
          "output_type": "stream",
          "text": [
            "Aceptado Chi_cuadrado\n",
            "96.4\n",
            "Generador borland\n",
            "|Z|= \n",
            "0.5584829866163423 \n",
            "\n",
            "Aceptada la prueba de rachas\n",
            "\n",
            "D del generador con kolmogorov es: 0.2504114011091192\n"
          ],
          "name": "stdout"
        },
        {
          "output_type": "display_data",
          "data": {
            "image/png": "[encoded data removed]",
            "text/plain": [
              "<Figure size 432x288 with 1 Axes>"
            ]
          },
          "metadata": {
            "tags": []
          }
        },
        {
          "output_type": "stream",
          "text": [
            "Rechazado Chi-Cuadrado\n",
            "14.0\n",
            "20\n",
            "No Solapadas\n"
          ],
          "name": "stdout"
        },
        {
          "output_type": "display_data",
          "data": {
            "image/png": "[encoded data removed]",
            "text/plain": [
              "<Figure size 432x288 with 1 Axes>"
            ]
          },
          "metadata": {
            "tags": []
          }
        },
        {
          "output_type": "stream",
          "text": [
            "Aceptado Chi_cuadrado\n",
            "96.4\n"
          ],
          "name": "stdout"
        }
      ]
    }
  ]
}